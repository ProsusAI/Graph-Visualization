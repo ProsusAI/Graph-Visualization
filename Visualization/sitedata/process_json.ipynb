{
 "cells": [
  {
   "cell_type": "code",
   "execution_count": 1,
   "id": "a2733d17",
   "metadata": {},
   "outputs": [],
   "source": [
    "import json\n",
    "import pandas as pd"
   ]
  },
  {
   "cell_type": "code",
   "execution_count": 2,
   "id": "0985a848",
   "metadata": {},
   "outputs": [
    {
     "name": "stderr",
     "output_type": "stream",
     "text": [
      "/home/ramon/anaconda3/lib/python3.9/site-packages/IPython/core/interactiveshell.py:3165: DtypeWarning: Columns (67) have mixed types.Specify dtype option on import or set low_memory=False.\n",
      "  has_raised = await self.run_ast_nodes(code_ast.body, cell_name,\n"
     ]
    }
   ],
   "source": [
    "processed_investor_data = pd.read_csv('processed_investor_data.csv', sep=\",\")\n",
    "processed_company_data = pd.read_csv('processed_company_data.csv', sep=\",\")"
   ]
  },
  {
   "cell_type": "code",
   "execution_count": 2,
   "id": "cfb64341",
   "metadata": {},
   "outputs": [],
   "source": [
    "# ONLY get 100 data items\n",
    "\n",
    "small_investor_data = processed_investor_data[:100]\n",
    "\n",
    "small_investor_data.to_csv('small_investor_data.csv', index=False)\n",
    "    \n",
    "with open('investor_id_with_embedding.json') as json_file:\n",
    "    small_investor_embeddings = json.load(json_file)[:100]\n",
    "\n",
    "with open('small_investor_embeddings.json', 'w') as f:\n",
    "    json.dump(small_investor_embeddings, f)"
   ]
  },
  {
   "cell_type": "code",
   "execution_count": 3,
   "id": "7cd8ae31",
   "metadata": {},
   "outputs": [
    {
     "name": "stderr",
     "output_type": "stream",
     "text": [
      "/home/ramon/anaconda3/lib/python3.9/site-packages/IPython/core/interactiveshell.py:3165: DtypeWarning: Columns (67) have mixed types.Specify dtype option on import or set low_memory=False.\n",
      "  has_raised = await self.run_ast_nodes(code_ast.body, cell_name,\n"
     ]
    }
   ],
   "source": [
    "# ONLY get 100 data items\n",
    "\n",
    "small_company_data = processed_company_data[:500]\n",
    "\n",
    "small_company_data.to_csv('small_company_data.csv', index=False)\n",
    "    \n",
    "with open('company_id_with_embedding.json') as json_file:\n",
    "    small_company_embeddings = json.load(json_file)[:500]\n",
    "\n",
    "with open('small_company_embeddings.json', 'w') as f:\n",
    "    json.dump(small_company_embeddings, f)"
   ]
  },
  {
   "cell_type": "code",
   "execution_count": 3,
   "id": "ba274af2",
   "metadata": {},
   "outputs": [
    {
     "name": "stdout",
     "output_type": "stream",
     "text": [
      "2176\n",
      "3291\n",
      "2416\n"
     ]
    }
   ],
   "source": [
    "#The way to check for NaNs\n",
    "# processed_investor_data['TotalInvestments'].isnull().sum()\n",
    "        \n",
    "small_investors = processed_investor_data.query('TotalInvestments <= 10')\n",
    "medium_investors = processed_investor_data.query('TotalInvestments > 10 & TotalInvestments < 50')\n",
    "large_investors = processed_investor_data.query('TotalInvestments >= 50')\n",
    "\n",
    "print(len(small_investors))\n",
    "print(len(medium_investors))\n",
    "print(len(large_investors))"
   ]
  },
  {
   "cell_type": "code",
   "execution_count": 6,
   "id": "8dab9f54",
   "metadata": {},
   "outputs": [
    {
     "name": "stdout",
     "output_type": "stream",
     "text": [
      "2015\n",
      "3807\n",
      "3872\n"
     ]
    }
   ],
   "source": [
    "small_companies = processed_company_data.query('ActiveInvestors <= 1')\n",
    "medium_companies = processed_company_data.query('ActiveInvestors > 1 & ActiveInvestors < 5')\n",
    "large_companies = processed_company_data.query('ActiveInvestors >= 5')\n",
    "\n",
    "print(len(small_companies))\n",
    "print(len(medium_companies))\n",
    "print(len(large_companies))"
   ]
  },
  {
   "cell_type": "code",
   "execution_count": 4,
   "id": "eac8c033",
   "metadata": {},
   "outputs": [
    {
     "name": "stdout",
     "output_type": "stream",
     "text": [
      "7883\n",
      "Americas       569\n",
      "Asia           544\n",
      "Europe         350\n",
      "Middle East     42\n",
      "Oceania         11\n",
      "Africa           5\n",
      "Name: HQGlobalRegion, dtype: int64\n",
      "Americas       1445\n",
      "Asia            758\n",
      "Europe          692\n",
      "Middle East     135\n",
      "Oceania          30\n",
      "Africa           12\n",
      "Name: HQGlobalRegion, dtype: int64\n",
      "Americas       1284\n",
      "Europe          613\n",
      "Asia            393\n",
      "Middle East      64\n",
      "Oceania          30\n",
      "Africa            8\n",
      "Name: HQGlobalRegion, dtype: int64\n"
     ]
    }
   ],
   "source": [
    "print(len(processed_investor_data))\n",
    "print(small_investors['HQGlobalRegion'].value_counts())\n",
    "print(medium_investors['HQGlobalRegion'].value_counts())\n",
    "print(large_investors['HQGlobalRegion'].value_counts())"
   ]
  },
  {
   "cell_type": "code",
   "execution_count": 13,
   "id": "b80cb2a3",
   "metadata": {},
   "outputs": [
    {
     "name": "stdout",
     "output_type": "stream",
     "text": [
      "9779\n",
      "Generating Revenue                   1389\n",
      "Startup                               524\n",
      "Product In Beta Test                   30\n",
      "Profitable                             21\n",
      "Stealth                                21\n",
      "Generating Revenue/Not Profitable      16\n",
      "Product Development                     8\n",
      "Clinical Trials - General               4\n",
      "Restart                                 1\n",
      "Clinical Trials - Phase 2               1\n",
      "Name: BusinessStatus, dtype: int64\n",
      "Generating Revenue                   3152\n",
      "Startup                               499\n",
      "Profitable                             46\n",
      "Product In Beta Test                   40\n",
      "Generating Revenue/Not Profitable      32\n",
      "Product Development                    12\n",
      "Stealth                                 8\n",
      "Pre-Clinical Trials                     7\n",
      "Clinical Trials - Phase 1               3\n",
      "Clinical Trials - General               3\n",
      "Clinical Trials - Phase 2               2\n",
      "Clinical Trials - Phase 3               1\n",
      "Name: BusinessStatus, dtype: int64\n",
      "Generating Revenue                   3563\n",
      "Startup                               157\n",
      "Profitable                             64\n",
      "Generating Revenue/Not Profitable      30\n",
      "Product In Beta Test                   23\n",
      "Product Development                    18\n",
      "Pre-Clinical Trials                     7\n",
      "Clinical Trials - Phase 1               3\n",
      "Stealth                                 3\n",
      "Clinical Trials - Phase 3               2\n",
      "Clinical Trials - Phase 2               1\n",
      "Clinical Trials - General               1\n",
      "Name: BusinessStatus, dtype: int64\n"
     ]
    }
   ],
   "source": [
    "print(len(processed_company_data))\n",
    "print(small_companies['BusinessStatus'].value_counts())\n",
    "print(medium_companies['BusinessStatus'].value_counts())\n",
    "print(large_companies['BusinessStatus'].value_counts())"
   ]
  }
 ],
 "metadata": {
  "kernelspec": {
   "display_name": "Python 3",
   "language": "python",
   "name": "python3"
  },
  "language_info": {
   "codemirror_mode": {
    "name": "ipython",
    "version": 3
   },
   "file_extension": ".py",
   "mimetype": "text/x-python",
   "name": "python",
   "nbconvert_exporter": "python",
   "pygments_lexer": "ipython3",
   "version": "3.9.2"
  }
 },
 "nbformat": 4,
 "nbformat_minor": 5
}
