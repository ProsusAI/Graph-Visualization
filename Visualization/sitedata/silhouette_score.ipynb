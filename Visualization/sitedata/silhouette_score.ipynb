{
 "cells": [
  {
   "cell_type": "code",
   "execution_count": 1,
   "id": "9a956608",
   "metadata": {},
   "outputs": [],
   "source": [
    "import numpy as np\n",
    "from sklearn.cluster import KMeans\n",
    "import json\n",
    "import pandas as pd\n",
    "import ast\n",
    "from sklearn import metrics"
   ]
  },
  {
   "cell_type": "code",
   "execution_count": 2,
   "id": "0a54a118",
   "metadata": {},
   "outputs": [],
   "source": [
    "with open('investor_id_with_embedding.json') as json_file:\n",
    "    hgt_investor_embeddings = json.load(json_file)"
   ]
  },
  {
   "cell_type": "code",
   "execution_count": 3,
   "id": "f37101b4",
   "metadata": {},
   "outputs": [],
   "source": [
    "hgt_investor_embeddings_list = []\n",
    "for embedding in hgt_investor_embeddings:\n",
    "    hgt_investor_embeddings_list.append(embedding['Embedding'])"
   ]
  },
  {
   "cell_type": "code",
   "execution_count": 62,
   "id": "3cd6f51c",
   "metadata": {},
   "outputs": [
    {
     "name": "stdout",
     "output_type": "stream",
     "text": [
      "HGT investor silhouette score\n"
     ]
    },
    {
     "data": {
      "text/plain": [
       "0.5101454893342819"
      ]
     },
     "execution_count": 62,
     "metadata": {},
     "output_type": "execute_result"
    }
   ],
   "source": [
    "kmeans_model = KMeans(n_clusters=5, random_state=1).fit(hgt_investor_embeddings_list)\n",
    "labels = kmeans_model.labels_\n",
    "print('HGT investor silhouette score')\n",
    "metrics.silhouette_score(hgt_investor_embeddings_list, labels, metric='euclidean')"
   ]
  },
  {
   "cell_type": "code",
   "execution_count": 5,
   "id": "1c2b69ac",
   "metadata": {},
   "outputs": [],
   "source": [
    "with open('company_id_with_embedding.json') as json_file:\n",
    "    hgt_company_embeddings = json.load(json_file)"
   ]
  },
  {
   "cell_type": "code",
   "execution_count": 6,
   "id": "ede2959f",
   "metadata": {},
   "outputs": [],
   "source": [
    "hgt_company_embeddings_list = []\n",
    "for embedding in hgt_company_embeddings:\n",
    "    hgt_company_embeddings_list.append(embedding['Embedding'])"
   ]
  },
  {
   "cell_type": "code",
   "execution_count": 25,
   "id": "028034fd",
   "metadata": {},
   "outputs": [
    {
     "name": "stdout",
     "output_type": "stream",
     "text": [
      "HGT company silhouette score\n"
     ]
    },
    {
     "data": {
      "text/plain": [
       "0.5565001178643844"
      ]
     },
     "execution_count": 25,
     "metadata": {},
     "output_type": "execute_result"
    }
   ],
   "source": [
    "kmeans_model = KMeans(n_clusters=8, random_state=1).fit(hgt_company_embeddings_list)\n",
    "labels = kmeans_model.labels_\n",
    "print('HGT company silhouette score')\n",
    "metrics.silhouette_score(hgt_company_embeddings_list, labels, metric='euclidean')"
   ]
  },
  {
   "cell_type": "code",
   "execution_count": 8,
   "id": "f6619315",
   "metadata": {},
   "outputs": [],
   "source": [
    "with open('investor_id_with_embedding_carlo.json') as json_file:\n",
    "    hgt_investor_embeddings_carlo = json.load(json_file)"
   ]
  },
  {
   "cell_type": "code",
   "execution_count": 9,
   "id": "b0abdd5d",
   "metadata": {},
   "outputs": [],
   "source": [
    "hgt_investor_embeddings_carlo_list = []\n",
    "for embedding in hgt_investor_embeddings_carlo:\n",
    "    hgt_investor_embeddings_carlo_list.append(embedding['Embedding'])"
   ]
  },
  {
   "cell_type": "code",
   "execution_count": 29,
   "id": "7f3b7bdc",
   "metadata": {},
   "outputs": [
    {
     "name": "stdout",
     "output_type": "stream",
     "text": [
      "HGT investor carlo silhouette score\n"
     ]
    },
    {
     "data": {
      "text/plain": [
       "0.5209029936241062"
      ]
     },
     "execution_count": 29,
     "metadata": {},
     "output_type": "execute_result"
    }
   ],
   "source": [
    "kmeans_model = KMeans(n_clusters=20, random_state=1).fit(hgt_investor_embeddings_carlo_list)\n",
    "labels = kmeans_model.labels_\n",
    "print('HGT investor carlo silhouette score')\n",
    "metrics.silhouette_score(hgt_investor_embeddings_carlo_list, labels, metric='euclidean')"
   ]
  },
  {
   "cell_type": "code",
   "execution_count": 11,
   "id": "77c62c87",
   "metadata": {},
   "outputs": [],
   "source": [
    "with open('company_id_with_embedding_carlo.json') as json_file:\n",
    "    hgt_company_embeddings_carlo = json.load(json_file)"
   ]
  },
  {
   "cell_type": "code",
   "execution_count": 12,
   "id": "8911149a",
   "metadata": {},
   "outputs": [],
   "source": [
    "hgt_company_embeddings_carlo_list = []\n",
    "for embedding in hgt_company_embeddings_carlo:\n",
    "    hgt_company_embeddings_carlo_list.append(embedding['Embedding'])"
   ]
  },
  {
   "cell_type": "code",
   "execution_count": 47,
   "id": "329314c0",
   "metadata": {},
   "outputs": [
    {
     "name": "stdout",
     "output_type": "stream",
     "text": [
      "HGT company carlo silhouette score\n"
     ]
    },
    {
     "data": {
      "text/plain": [
       "0.4516902907863004"
      ]
     },
     "execution_count": 47,
     "metadata": {},
     "output_type": "execute_result"
    }
   ],
   "source": [
    "kmeans_model = KMeans(n_clusters=9, random_state=1).fit(hgt_company_embeddings_carlo_list)\n",
    "labels = kmeans_model.labels_\n",
    "print('HGT company carlo silhouette score')\n",
    "metrics.silhouette_score(hgt_company_embeddings_carlo_list, labels, metric='euclidean')"
   ]
  },
  {
   "cell_type": "code",
   "execution_count": 14,
   "id": "a6e0009d",
   "metadata": {},
   "outputs": [],
   "source": [
    "with open('rgcn_investor_id_with_embedding_carlo.json') as json_file:\n",
    "    rgcn_investor_embeddings_carlo = json.load(json_file)"
   ]
  },
  {
   "cell_type": "code",
   "execution_count": 15,
   "id": "38885dea",
   "metadata": {},
   "outputs": [],
   "source": [
    "rgcn_investor_embeddings_carlo_list = []\n",
    "for embedding in rgcn_investor_embeddings_carlo:\n",
    "    rgcn_investor_embeddings_carlo_list.append(embedding['Embedding'])"
   ]
  },
  {
   "cell_type": "code",
   "execution_count": 59,
   "id": "b4c6aef6",
   "metadata": {},
   "outputs": [
    {
     "name": "stdout",
     "output_type": "stream",
     "text": [
      "RGCN investor carlo silhouette score\n"
     ]
    },
    {
     "data": {
      "text/plain": [
       "0.5288060217699065"
      ]
     },
     "execution_count": 59,
     "metadata": {},
     "output_type": "execute_result"
    }
   ],
   "source": [
    "kmeans_model = KMeans(n_clusters=9, random_state=1).fit(rgcn_investor_embeddings_carlo_list)\n",
    "labels = kmeans_model.labels_\n",
    "print('RGCN investor carlo silhouette score')\n",
    "metrics.silhouette_score(rgcn_investor_embeddings_carlo_list, labels, metric='euclidean')"
   ]
  },
  {
   "cell_type": "code",
   "execution_count": 17,
   "id": "179dbb2f",
   "metadata": {},
   "outputs": [],
   "source": [
    "with open('rgcn_company_id_with_embedding_carlo.json') as json_file:\n",
    "    rgcn_company_embeddings_carlo = json.load(json_file)"
   ]
  },
  {
   "cell_type": "code",
   "execution_count": 18,
   "id": "9d73fc03",
   "metadata": {},
   "outputs": [],
   "source": [
    "rgcn_company_embeddings_carlo_list = []\n",
    "for embedding in rgcn_company_embeddings_carlo:\n",
    "    rgcn_company_embeddings_carlo_list.append(embedding['Embedding'])"
   ]
  },
  {
   "cell_type": "code",
   "execution_count": 63,
   "id": "198539d5",
   "metadata": {},
   "outputs": [
    {
     "name": "stdout",
     "output_type": "stream",
     "text": [
      "RGCN company carlo silhouette score\n"
     ]
    },
    {
     "data": {
      "text/plain": [
       "0.5835102416989341"
      ]
     },
     "execution_count": 63,
     "metadata": {},
     "output_type": "execute_result"
    }
   ],
   "source": [
    "kmeans_model = KMeans(n_clusters=28, random_state=1).fit(rgcn_company_embeddings_carlo_list)\n",
    "labels = kmeans_model.labels_\n",
    "print('RGCN company carlo silhouette score')\n",
    "metrics.silhouette_score(rgcn_company_embeddings_carlo_list, labels, metric='euclidean')"
   ]
  }
 ],
 "metadata": {
  "kernelspec": {
   "display_name": "Python 3",
   "language": "python",
   "name": "python3"
  },
  "language_info": {
   "codemirror_mode": {
    "name": "ipython",
    "version": 3
   },
   "file_extension": ".py",
   "mimetype": "text/x-python",
   "name": "python",
   "nbconvert_exporter": "python",
   "pygments_lexer": "ipython3",
   "version": "3.9.2"
  }
 },
 "nbformat": 4,
 "nbformat_minor": 5
}
