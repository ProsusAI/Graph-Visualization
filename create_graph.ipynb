{
 "cells": [
  {
   "cell_type": "code",
   "execution_count": 1,
   "metadata": {},
   "outputs": [
    {
     "name": "stderr",
     "output_type": "stream",
     "text": [
      "Using backend: pytorch\n"
     ]
    }
   ],
   "source": [
    "#Import the right libraries\n",
    "import pandas as pd\n",
    "import dgl\n",
    "import numpy as np\n",
    "import networkx as nx\n",
    "import torch\n",
    "from dgl.data.utils import save_graphs"
   ]
  },
  {
   "cell_type": "code",
   "execution_count": 2,
   "metadata": {},
   "outputs": [
    {
     "name": "stderr",
     "output_type": "stream",
     "text": [
      "/home/ramon/anaconda3/lib/python3.9/site-packages/IPython/core/interactiveshell.py:3165: DtypeWarning: Columns (67) have mixed types.Specify dtype option on import or set low_memory=False.\n",
      "  has_raised = await self.run_ast_nodes(code_ast.body, cell_name,\n"
     ]
    }
   ],
   "source": [
    "#Import the data\n",
    "processed_company_data = pd.read_csv('processed_company_data.csv', sep=\",\")\n",
    "processed_investor_data = pd.read_csv('processed_investor_data.csv', sep=\",\")\n",
    "processed_relation_data = pd.read_csv('processed_relation_data.csv', sep=\",\")"
   ]
  },
  {
   "cell_type": "markdown",
   "metadata": {},
   "source": [
    "# Get the relations for the graph"
   ]
  },
  {
   "cell_type": "code",
   "execution_count": 3,
   "metadata": {},
   "outputs": [],
   "source": [
    "#This function is a bit too slow..\n",
    "tuples_relations = list(zip(processed_relation_data.InvestorID, processed_relation_data.CompanyID))\n",
    "\n",
    "different_relation = []\n",
    "same_relation = []\n",
    "for relation in tuples_relations:\n",
    "    investor_id = processed_investor_data.loc[processed_investor_data['InvestorID'] == relation[0]].index\n",
    "    company_id = processed_company_data.loc[processed_company_data['CompanyID'] == relation[1]].index\n",
    "    \n",
    "#     If the company id can not be found in the company dataset\n",
    "    if company_id.empty:\n",
    "        #This is actually the investor/company ID\n",
    "        company_id = processed_investor_data.loc[processed_investor_data['InvestorID'] == relation[1]].index\n",
    "        same_relation.append((investor_id.tolist()[0], company_id.tolist()[0]))\n",
    "    \n",
    "    else:\n",
    "        different_relation.append((investor_id.tolist()[0], company_id.tolist()[0]))"
   ]
  },
  {
   "cell_type": "code",
   "execution_count": 4,
   "metadata": {},
   "outputs": [],
   "source": [
    "transposed_different_relation = [(t[1], t[0]) for t in different_relation]\n",
    "transposed_same_relation = [(t[1], t[0]) for t in same_relation]"
   ]
  },
  {
   "cell_type": "markdown",
   "metadata": {},
   "source": [
    "# Create the graph"
   ]
  },
  {
   "cell_type": "code",
   "execution_count": 5,
   "metadata": {},
   "outputs": [
    {
     "name": "stdout",
     "output_type": "stream",
     "text": [
      "Graph(num_nodes={'company': 9779, 'investor/company': 7883},\n",
      "      num_edges={('company', 'different_invested_by', 'investor/company'): 50087, ('investor/company', 'different_invests_in', 'company'): 50087, ('investor/company', 'same_invested_by', 'investor/company'): 5102, ('investor/company', 'same_invests_in', 'investor/company'): 5102},\n",
      "      metagraph=[('company', 'investor/company', 'different_invested_by'), ('investor/company', 'company', 'different_invests_in'), ('investor/company', 'investor/company', 'same_invested_by'), ('investor/company', 'investor/company', 'same_invests_in')])\n"
     ]
    }
   ],
   "source": [
    "#Input to graph has to be a list with tuples.\n",
    "#In our case that will be [(investor, company), (investor, company), ...]\n",
    "#We do have an exception when an investor is also a company:\n",
    "#Then we have: [(investor/company, investor/company), (investor/company, investor/company), ...]\n",
    "\n",
    "g = dgl.heterograph({\n",
    "    ('investor/company', 'different_invests_in', 'company'): different_relation,\n",
    "    ('investor/company', 'same_invests_in', 'investor/company'): same_relation,\n",
    "    ('company', 'different_invested_by', 'investor/company'): transposed_different_relation,\n",
    "    ('investor/company', 'same_invested_by', 'investor/company'): transposed_same_relation\n",
    "})\n",
    "\n",
    "print(g)"
   ]
  },
  {
   "cell_type": "code",
   "execution_count": 6,
   "metadata": {},
   "outputs": [
    {
     "name": "stdout",
     "output_type": "stream",
     "text": [
      "Node types: ['company', 'investor/company']\n",
      "Edge types: ['different_invested_by', 'different_invests_in', 'same_invested_by', 'same_invests_in']\n",
      "Canonical edge types: [('company', 'different_invested_by', 'investor/company'), ('investor/company', 'different_invests_in', 'company'), ('investor/company', 'same_invested_by', 'investor/company'), ('investor/company', 'same_invests_in', 'investor/company')]\n",
      "The amount of companies in our graph: 9779\n",
      "The amount of investor/company nodes in our graph: 7883\n",
      "The amount of different relations: 50087\n",
      "The amount of same relations: 5102\n",
      "Total number of edges 110378\n"
     ]
    }
   ],
   "source": [
    "#Statistics\n",
    "print('Node types:', g.ntypes)\n",
    "print('Edge types:', g.etypes)\n",
    "print('Canonical edge types:', g.canonical_etypes)\n",
    "\n",
    "print('The amount of companies in our graph:', g.number_of_nodes('company'))\n",
    "print('The amount of investor/company nodes in our graph:', g.number_of_nodes('investor/company'))\n",
    "\n",
    "print('The amount of different relations:', g.number_of_edges(('investor/company', 'different_invests_in', 'company')))\n",
    "print('The amount of same relations:',g.number_of_edges(('investor/company', 'same_invests_in', 'investor/company')))\n",
    "\n",
    "print('Total number of edges', g.number_of_edges())"
   ]
  },
  {
   "cell_type": "code",
   "execution_count": 7,
   "metadata": {},
   "outputs": [],
   "source": [
    "#Save graph\n",
    "# save_graphs(\"dgl_graph\", g)"
   ]
  }
 ],
 "metadata": {
  "kernelspec": {
   "display_name": "Python 3",
   "language": "python",
   "name": "python3"
  },
  "language_info": {
   "codemirror_mode": {
    "name": "ipython",
    "version": 3
   },
   "file_extension": ".py",
   "mimetype": "text/x-python",
   "name": "python",
   "nbconvert_exporter": "python",
   "pygments_lexer": "ipython3",
   "version": "3.9.2"
  }
 },
 "nbformat": 4,
 "nbformat_minor": 2
}
