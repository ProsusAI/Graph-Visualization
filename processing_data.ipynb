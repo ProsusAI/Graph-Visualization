{
 "cells": [
  {
   "cell_type": "code",
   "execution_count": 1,
   "metadata": {},
   "outputs": [
    {
     "name": "stderr",
     "output_type": "stream",
     "text": [
      "Using backend: pytorch\n"
     ]
    }
   ],
   "source": [
    "#Import the right libraries\n",
    "import pandas as pd\n",
    "import dgl\n",
    "import numpy as np\n",
    "import networkx as nx\n",
    "import torch"
   ]
  },
  {
   "cell_type": "code",
   "execution_count": 2,
   "metadata": {},
   "outputs": [
    {
     "name": "stderr",
     "output_type": "stream",
     "text": [
      "/home/ramon/anaconda3/lib/python3.9/site-packages/IPython/core/interactiveshell.py:3165: DtypeWarning: Columns (47) have mixed types.Specify dtype option on import or set low_memory=False.\n",
      "  has_raised = await self.run_ast_nodes(code_ast.body, cell_name,\n",
      "/home/ramon/anaconda3/lib/python3.9/site-packages/IPython/core/interactiveshell.py:3165: DtypeWarning: Columns (97) have mixed types.Specify dtype option on import or set low_memory=False.\n",
      "  has_raised = await self.run_ast_nodes(code_ast.body, cell_name,\n"
     ]
    }
   ],
   "source": [
    "#Import the data\n",
    "company_data = pd.read_csv('Company.dat', sep=\"|\")\n",
    "investor_data = pd.read_csv('Investor.dat', sep=\"|\")\n",
    "relation_data = pd.read_csv('InvestorInvestmentRelation.dat', sep=\"|\")"
   ]
  },
  {
   "cell_type": "code",
   "execution_count": 3,
   "metadata": {},
   "outputs": [
    {
     "name": "stdout",
     "output_type": "stream",
     "text": [
      "We have 7367 unique investor IDs in the relation data\n",
      "We have 186495 unique company IDs in the relation data\n"
     ]
    }
   ],
   "source": [
    "#Get the unique ids for investors and companies in the relation data\n",
    "investor_ids_relation = relation_data['InvestorID'].unique()\n",
    "company_ids_relation = relation_data['CompanyID'].unique()\n",
    "\n",
    "print('We have', len(investor_ids_relation), 'unique investor IDs in the relation data')\n",
    "print('We have', len(company_ids_relation), 'unique company IDs in the relation data')"
   ]
  },
  {
   "cell_type": "code",
   "execution_count": 4,
   "metadata": {},
   "outputs": [
    {
     "name": "stdout",
     "output_type": "stream",
     "text": [
      "The amount of unique investor ids in the relation dataset: 7367\n",
      "The amount of unique investor ids in the relation dataset that can be found in the investor dataset: 7320\n",
      "The amount of unique investor ids in the relation dataset that can be found in the company dataset: 29\n",
      "The amount of unique investor ids in the relation dataset that can be found in the investor AND the company dataset: 29\n",
      "Therefore we have 7320 unique investor ids\n",
      "18 investor ids do not have metadata\n",
      "\n",
      "\n",
      "The amount of unique company ids in the relation dataset: 186495\n",
      "The amount of unique company ids in the relation dataset that can be found in the investor dataset: 1021\n",
      "The amount of unique company ids in the relation dataset that can be found in the company dataset: 9779\n",
      "The amount of unique company ids in the relation dataset that can be found in the investor AND the company dataset: 75\n",
      "Therefore we have 10725 unique company ids\n",
      "175695 company ids do not have metadata\n"
     ]
    }
   ],
   "source": [
    "#Get the unique ids for investors and companies in their own datafile\n",
    "investor_ids = investor_data['InvestorID'].unique()\n",
    "company_ids = company_data['CompanyID'].unique()\n",
    "\n",
    "#Check whether the relation ids occur in the investor_ids or the company_ids\n",
    "common_ids_investor = set(investor_ids_relation) & set(investor_ids)\n",
    "common_ids_investor2 = set(investor_ids_relation) & set(company_ids)\n",
    "\n",
    "#Add the two sets to get the unique investor ids\n",
    "common_investor_ids = common_ids_investor | common_ids_investor2\n",
    "\n",
    "#Check if they occur in both\n",
    "common_common = common_ids_investor & common_ids_investor2\n",
    "\n",
    "common_ids_company = set(company_ids_relation) & set(investor_ids)\n",
    "common_ids_company2 = set(company_ids_relation) & set(company_ids)\n",
    "\n",
    "#Add the two sets and take the set again to get the unique values\n",
    "common_company_ids = common_ids_company | common_ids_company2\n",
    "\n",
    "common_common2 = common_ids_company & common_ids_company2\n",
    "\n",
    "\n",
    "print('The amount of unique investor ids in the relation dataset:', len(investor_ids_relation))\n",
    "print('The amount of unique investor ids in the relation dataset that can be found in the investor dataset:',\n",
    "      len(common_ids_investor))\n",
    "print('The amount of unique investor ids in the relation dataset that can be found in the company dataset:',\n",
    "      len(common_ids_investor2))\n",
    "print('The amount of unique investor ids in the relation dataset that can be found in the investor AND the company dataset:',\n",
    "      len(common_common))\n",
    "print('Therefore we have', len(common_investor_ids), 'unique investor ids')\n",
    "print(len(investor_ids_relation) - len(common_ids_investor) - len(common_ids_investor2), 'investor ids do not have metadata')\n",
    "\n",
    "print('\\n')\n",
    "\n",
    "print('The amount of unique company ids in the relation dataset:', len(company_ids_relation))\n",
    "print('The amount of unique company ids in the relation dataset that can be found in the investor dataset:',\n",
    "      len(common_ids_company))\n",
    "print('The amount of unique company ids in the relation dataset that can be found in the company dataset:',\n",
    "      len(common_ids_company2))\n",
    "print('The amount of unique company ids in the relation dataset that can be found in the investor AND the company dataset:',\n",
    "      len(common_common2))\n",
    "print('Therefore we have', len(common_company_ids), 'unique company ids')\n",
    "print(len(company_ids_relation) - len(common_ids_company) - len(common_ids_company2), 'company ids do not have metadata')"
   ]
  },
  {
   "cell_type": "markdown",
   "metadata": {},
   "source": [
    "PROBLEM: not all the id's in the investor_ids/company_ids from the relation data are in the pure company and pure investor dataset. This means that for some relations we only have a investor id or company id but no additional information."
   ]
  },
  {
   "cell_type": "markdown",
   "metadata": {},
   "source": [
    "The graph does not take strings as input so it has to be a number. What are the options?\n",
    "- We could extract the investor ID's and company ID's and transform these intoo the indices from the pure company and pure investor dataset. However, this is not possible because we do not have all the IDs\n",
    "\n",
    "- CURRENT CHOICE: We could skip them and only use the nodes where we have metadata from"
   ]
  },
  {
   "cell_type": "code",
   "execution_count": 5,
   "metadata": {},
   "outputs": [
    {
     "name": "stdout",
     "output_type": "stream",
     "text": [
      "7320\n",
      "10722\n"
     ]
    }
   ],
   "source": [
    "#Only get the investors and companies where we have metadata from\n",
    "processed_relation_data = relation_data.query('(InvestorID in @common_investor_ids) & (CompanyID in @common_company_ids)').reset_index(drop=True)\n",
    "print(len(processed_relation_data.InvestorID.unique()))\n",
    "print(len(processed_relation_data.CompanyID.unique()))"
   ]
  },
  {
   "cell_type": "code",
   "execution_count": 6,
   "metadata": {},
   "outputs": [
    {
     "name": "stdout",
     "output_type": "stream",
     "text": [
      "7883\n",
      "9779\n"
     ]
    }
   ],
   "source": [
    "#Get the relevant investor ids and company ids from the original dataset and reset the index for the input of dgl.\n",
    "processed_investor_data = investor_data.query('(InvestorID in @common_investor_ids) | (InvestorID in @common_company_ids)').reset_index(drop=True)\n",
    "processed_company_data = company_data.query('(CompanyID in @common_company_ids)').reset_index(drop=True)\n",
    "\n",
    "print(len(processed_investor_data))\n",
    "print(len(processed_company_data))\n",
    "\n",
    "tuples_relations = list(zip(processed_relation_data.InvestorID, processed_relation_data.CompanyID))"
   ]
  },
  {
   "cell_type": "code",
   "execution_count": 7,
   "metadata": {},
   "outputs": [
    {
     "name": "stdout",
     "output_type": "stream",
     "text": [
      "9779\n",
      "7883\n",
      "10722\n",
      "7320\n"
     ]
    }
   ],
   "source": [
    "print(len(processed_company_data))\n",
    "print(len(processed_investor_data))\n",
    "print(len(processed_relation_data['CompanyID'].unique()))\n",
    "print(len(processed_relation_data['InvestorID'].unique()))"
   ]
  },
  {
   "cell_type": "code",
   "execution_count": 8,
   "metadata": {},
   "outputs": [
    {
     "name": "stdout",
     "output_type": "stream",
     "text": [
      "From the 18377 investor data nodes we can only use 7883 nodes.\n",
      "From the 11377 company data nodes we can only use 9779 nodes.\n",
      "From the 519123 relation edges we can only use 55189 edges.\n"
     ]
    }
   ],
   "source": [
    "print('From the', len(investor_data), 'investor data nodes we can only use', len(processed_investor_data), 'nodes.')\n",
    "print('From the', len(company_data), 'company data nodes we can only use', len(processed_company_data), 'nodes.')\n",
    "print('From the', len(relation_data), 'relation edges we can only use', len(processed_relation_data), 'edges.')"
   ]
  },
  {
   "cell_type": "markdown",
   "metadata": {},
   "source": [
    "# Save the files"
   ]
  },
  {
   "cell_type": "code",
   "execution_count": 9,
   "metadata": {},
   "outputs": [],
   "source": [
    "#Create new processed csv files\n",
    "# processed_investor_data.to_csv('processed_investor_data.csv', index=False)\n",
    "# processed_company_data.to_csv('processed_company_data.csv', index=False)\n",
    "# processed_relation_data.to_csv('processed_relation_data.csv', index=False)"
   ]
  }
 ],
 "metadata": {
  "kernelspec": {
   "display_name": "Python 3",
   "language": "python",
   "name": "python3"
  },
  "language_info": {
   "codemirror_mode": {
    "name": "ipython",
    "version": 3
   },
   "file_extension": ".py",
   "mimetype": "text/x-python",
   "name": "python",
   "nbconvert_exporter": "python",
   "pygments_lexer": "ipython3",
   "version": "3.9.2"
  }
 },
 "nbformat": 4,
 "nbformat_minor": 2
}
